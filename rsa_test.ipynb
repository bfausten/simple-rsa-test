{
 "cells": [
  {
   "cell_type": "code",
   "execution_count": null,
   "id": "568c85e4-0cbd-4397-aed1-1e81ff2f79d6",
   "metadata": {},
   "outputs": [],
   "source": []
  }
 ],
 "metadata": {
  "kernelspec": {
   "display_name": "",
   "name": ""
  },
  "language_info": {
   "name": ""
  }
 },
 "nbformat": 4,
 "nbformat_minor": 5
}
